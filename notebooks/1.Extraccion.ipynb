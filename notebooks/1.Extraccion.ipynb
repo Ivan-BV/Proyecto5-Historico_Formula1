{
 "cells": [
  {
   "cell_type": "code",
   "execution_count": 2,
   "metadata": {},
   "outputs": [],
   "source": [
    "# Imports\n",
    "import pandas as pd\n",
    "pd.set_option(\"display.max_rows\", None)\n",
    "import sys\n",
    "sys.path.append(\"../\")\n",
    "import re\n",
    "import src.soporte_funciones_extraccion as sfe\n",
    "import src.soporte_variables_extraccion as sve"
   ]
  },
  {
   "cell_type": "markdown",
   "metadata": {},
   "source": [
    "# Extracción de datos desde APIs"
   ]
  },
  {
   "cell_type": "markdown",
   "metadata": {},
   "source": [
    "### API Ergast API"
   ]
  },
  {
   "cell_type": "code",
   "execution_count": null,
   "metadata": {},
   "outputs": [],
   "source": [
    "pilotos_historicos = [\"Michael Schumacher\", \"Lewis Hamilton\", \"Sebastian Vettel\", \"Alain Prost\", \"Ayrton Senna\", \"Max Verstappen\", \"Fernando Alonso\"]\n",
    "pilotos = [\"michael_schumacher\", \"hamilton\", \"vettel\", \"prost\", \"senna\", \"max_verstappen\", \"alonso\"]\n",
    "\n",
    "df_historicos = sfe.obtener_historicos(pilotos)"
   ]
  },
  {
   "cell_type": "code",
   "execution_count": null,
   "metadata": {},
   "outputs": [],
   "source": [
    "df_historicos_limpio = sfe.formatear_datos_historicos(df_historicos, pilotos_historicos)\n",
    "df_historicos_limpio"
   ]
  },
  {
   "cell_type": "code",
   "execution_count": null,
   "metadata": {},
   "outputs": [],
   "source": [
    "df_historicos_limpio.to_csv(\"../datos/output/historico_mejores_pilotos.csv\")"
   ]
  },
  {
   "cell_type": "markdown",
   "metadata": {},
   "source": [
    "### API 2"
   ]
  },
  {
   "cell_type": "code",
   "execution_count": null,
   "metadata": {},
   "outputs": [],
   "source": []
  },
  {
   "cell_type": "markdown",
   "metadata": {},
   "source": [
    "# Extracción de datos con Web Scrapping"
   ]
  },
  {
   "cell_type": "markdown",
   "metadata": {},
   "source": [
    "### Web Wikipedia"
   ]
  },
  {
   "cell_type": "code",
   "execution_count": null,
   "metadata": {},
   "outputs": [],
   "source": [
    "url = \"https://en.wikipedia.org/wiki/List_of_Formula_One_constructors\"\n",
    "df_escuderias_historicas = sfe.obtener_equipos_historicos_wikipedia(url)\n",
    "df_escuderias_presente = sfe.obtener_equipos_presentes_wikipedia(url)"
   ]
  },
  {
   "cell_type": "code",
   "execution_count": 4,
   "metadata": {},
   "outputs": [],
   "source": [
    "df_escuderias = df_escuderias_historicas[[\"nombre\", \"nacionalidad\", \"duracion\"]].reset_index()\n",
    "df_escuderias.rename(columns={\"index\": \"id\"}, inplace=True)\n",
    "df_escuderias.to_csv(\"../datos/output/listado_escuderias_historicas.csv\")"
   ]
  },
  {
   "cell_type": "code",
   "execution_count": 5,
   "metadata": {},
   "outputs": [],
   "source": [
    "df_escuderias_historicas.to_csv(\"../datos/output/historico_total_escuderias.csv\")"
   ]
  },
  {
   "cell_type": "code",
   "execution_count": null,
   "metadata": {},
   "outputs": [],
   "source": [
    "df_escuderias_presente.to_csv(\"../datos/output/escuderias_presente.csv\")"
   ]
  },
  {
   "cell_type": "markdown",
   "metadata": {},
   "source": [
    "### Web Liberty Media"
   ]
  },
  {
   "cell_type": "code",
   "execution_count": null,
   "metadata": {},
   "outputs": [],
   "source": [
    "df_audiencia_f1 = sfe.obtener_datos_audiencia_liberty_media()\n",
    "df_audiencia_f1"
   ]
  }
 ],
 "metadata": {
  "kernelspec": {
   "display_name": "proyecto5",
   "language": "python",
   "name": "python3"
  },
  "language_info": {
   "codemirror_mode": {
    "name": "ipython",
    "version": 3
   },
   "file_extension": ".py",
   "mimetype": "text/x-python",
   "name": "python",
   "nbconvert_exporter": "python",
   "pygments_lexer": "ipython3",
   "version": "3.12.7"
  }
 },
 "nbformat": 4,
 "nbformat_minor": 2
}
