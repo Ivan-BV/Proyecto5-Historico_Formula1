{
 "cells": [
  {
   "cell_type": "code",
   "execution_count": null,
   "metadata": {},
   "outputs": [],
   "source": [
    "import psycopg2\n",
    "import pandas as pd\n",
    "import sys\n",
    "sys.path.append(\"../\")\n",
    "import src.soporte_funciones_creacion_bbdd as sfcb"
   ]
  },
  {
   "cell_type": "markdown",
   "metadata": {},
   "source": [
    "# Creación bbdd"
   ]
  },
  {
   "cell_type": "code",
   "execution_count": null,
   "metadata": {},
   "outputs": [],
   "source": [
    "df_escuderias = pd.read_csv(\"../datos/output/listado_escuderias_historicas.csv\", index_col=0)\n",
    "df_escuderias"
   ]
  },
  {
   "cell_type": "code",
   "execution_count": null,
   "metadata": {},
   "outputs": [],
   "source": [
    "df_escuderias_presente = pd.read_csv(\"../datos/output/escuderias_presente.csv\", index_col=0)\n",
    "df_escuderias_presente"
   ]
  },
  {
   "cell_type": "code",
   "execution_count": null,
   "metadata": {},
   "outputs": [],
   "source": [
    "df_escuderias_historicas = pd.read_csv(\"../datos/output/historico_total_escuderias.csv\", index_col=0)\n",
    "df_escuderias_historicas"
   ]
  },
  {
   "cell_type": "code",
   "execution_count": null,
   "metadata": {},
   "outputs": [],
   "source": [
    "df_mejores_pilotos = pd.read_csv(\"../datos/output/historico_mejores_pilotos.csv\", index_col=0)\n",
    "df_mejores_pilotos"
   ]
  },
  {
   "cell_type": "code",
   "execution_count": null,
   "metadata": {},
   "outputs": [],
   "source": [
    "#sfcb.crear_bbdd(\"proyecto5\")\n",
    "conn = sfcb.establecer_conexion(\"proyecto5\", \"admin\", \"postgres\")\n",
    "sfcb.crear_tablas(\"proyecto5\")\n",
    "try:\n",
    "    sfcb.insertar_datos(conn, df_escuderias, \"escuderias_historicas\")\n",
    "    sfcb.insertar_datos(conn, df_escuderias_presente, \"equipos_presente\")\n",
    "    sfcb.insertar_datos(conn, df_escuderias_historicas, \"datos_historicos\")\n",
    "    sfcb.insertar_datos(conn, df_mejores_pilotos, \"mejores_pilotos\")\n",
    "    conn.commit()\n",
    "    conn.close()\n",
    "except (Exception, psycopg2.DatabaseError) as error:\n",
    "        print(f\"Error while creating database: {error}\")\n",
    "        conn.close()"
   ]
  }
 ],
 "metadata": {
  "kernelspec": {
   "display_name": "proyecto5",
   "language": "python",
   "name": "python3"
  },
  "language_info": {
   "codemirror_mode": {
    "name": "ipython",
    "version": 3
   },
   "file_extension": ".py",
   "mimetype": "text/x-python",
   "name": "python",
   "nbconvert_exporter": "python",
   "pygments_lexer": "ipython3",
   "version": "3.12.7"
  }
 },
 "nbformat": 4,
 "nbformat_minor": 2
}
